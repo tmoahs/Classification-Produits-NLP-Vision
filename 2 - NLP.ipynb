{
 "cells": [
  {
   "metadata": {},
   "cell_type": "markdown",
   "source": "# P6 - Notebook 2 : Prétraitement du Texte (NLP)",
   "id": "4118c4f27b094e0c"
  },
  {
   "metadata": {
    "ExecuteTime": {
     "end_time": "2025-09-02T12:59:13.342293Z",
     "start_time": "2025-09-02T12:59:13.339153Z"
    }
   },
   "cell_type": "code",
   "source": [
    "# ---\n",
    "# ### Respect de la Propriété Intellectuelle des Données Textuelles\n",
    "# Les données textuelles utilisées proviennent d'un jeu de données public (`flipkart_com-ecommerce_sample`).\n",
    "# Leur utilisation se fait dans un cadre strictement pédagogique et non commercial.\n",
    "# ---"
   ],
   "id": "3c7c64be6cf1e590",
   "outputs": [],
   "execution_count": 1
  },
  {
   "metadata": {},
   "cell_type": "markdown",
   "source": "## 1. Imports et Chargement des Données",
   "id": "6190190338d8ee4b"
  },
  {
   "metadata": {
    "ExecuteTime": {
     "end_time": "2025-09-02T12:59:13.788037Z",
     "start_time": "2025-09-02T12:59:13.347299Z"
    }
   },
   "cell_type": "code",
   "source": [
    "import pandas as pd\n",
    "import nltk\n",
    "from nltk.corpus import stopwords\n",
    "from nltk.stem import PorterStemmer\n",
    "from nltk.stem import WordNetLemmatizer\n",
    "from nltk.tokenize import word_tokenize\n",
    "import re\n",
    "\n",
    "# Téléchargement des ressources NLTK nécessaires\n",
    "nltk.download('punkt')\n",
    "nltk.download('stopwords')\n",
    "nltk.download('wordnet')\n",
    "\n",
    "# Charger les données nettoyées\n",
    "df = pd.read_csv('Data/data_cleaned.csv')\n",
    "print(\"Données chargées :\")\n",
    "print(df.head())"
   ],
   "id": "76e4b749b74f0f4f",
   "outputs": [
    {
     "name": "stdout",
     "output_type": "stream",
     "text": [
      "Données chargées :\n",
      "                                         description    main_category  \\\n",
      "0  Key Features of Elegance Polyester Multicolor ...  Home Furnishing   \n",
      "1  Specifications of Sathiyas Cotton Bath Towel (...        Baby Care   \n",
      "2  Key Features of Eurospa Cotton Terry Face Towe...        Baby Care   \n",
      "3  Key Features of SANTOSH ROYAL FASHION Cotton P...  Home Furnishing   \n",
      "4  Key Features of Jaipur Print Cotton Floral Kin...  Home Furnishing   \n",
      "\n",
      "                                         image_path  \n",
      "0  Data/Images/55b85ea15a1536d46b7190ad6fff8ce7.jpg  \n",
      "1  Data/Images/7b72c92c2f6c40268628ec5f14c6d590.jpg  \n",
      "2  Data/Images/64d5d4a258243731dc7bbb1eef49ad74.jpg  \n",
      "3  Data/Images/d4684dcdc759dd9cdf41504698d737d8.jpg  \n",
      "4  Data/Images/6325b6870c54cd47be6ebfbffa620ec7.jpg  \n"
     ]
    },
    {
     "name": "stderr",
     "output_type": "stream",
     "text": [
      "[nltk_data] Downloading package punkt to\n",
      "[nltk_data]     C:\\Users\\Thomas\\AppData\\Roaming\\nltk_data...\n",
      "[nltk_data]   Package punkt is already up-to-date!\n",
      "[nltk_data] Downloading package stopwords to\n",
      "[nltk_data]     C:\\Users\\Thomas\\AppData\\Roaming\\nltk_data...\n",
      "[nltk_data]   Package stopwords is already up-to-date!\n",
      "[nltk_data] Downloading package wordnet to\n",
      "[nltk_data]     C:\\Users\\Thomas\\AppData\\Roaming\\nltk_data...\n",
      "[nltk_data]   Package wordnet is already up-to-date!\n"
     ]
    }
   ],
   "execution_count": 2
  },
  {
   "metadata": {},
   "cell_type": "markdown",
   "source": "## 2. Définition du Pipeline de Nettoyage de Texte",
   "id": "c42c69f9f748cf51"
  },
  {
   "metadata": {
    "ExecuteTime": {
     "end_time": "2025-09-02T12:59:13.798071Z",
     "start_time": "2025-09-02T12:59:13.793554Z"
    }
   },
   "cell_type": "code",
   "source": [
    "# Initialisation des outils\n",
    "stop_words = set(stopwords.words('english'))\n",
    "stemmer = PorterStemmer()\n",
    "lemmatizer = WordNetLemmatizer()\n",
    "\n",
    "def clean_text_pipeline(text):\n",
    "    \"\"\"\n",
    "    Pipeline complet pour nettoyer une chaîne de caractères :\n",
    "    1. Passage en minuscules\n",
    "    2. Suppression des caractères non alphabétiques\n",
    "    3. Tokenisation\n",
    "    4. Suppression des stopwords\n",
    "    5. Lemmatisation\n",
    "    \"\"\"\n",
    "    if not isinstance(text, str):\n",
    "        return \"\"\n",
    "\n",
    "    # 1. Minuscules et suppression de la ponctuation/chiffres\n",
    "    text = text.lower()\n",
    "    text = re.sub(r'[^a-zA-Z\\s]', '', text)\n",
    "\n",
    "    # 2. Tokenisation\n",
    "    tokens = word_tokenize(text)\n",
    "\n",
    "    # 3. Suppression des stopwords et 4. Stemmatisation\n",
    "    cleaned_tokens = [stemmer.stem(word) for word in tokens if word not in stop_words and len(word) > 2]\n",
    "    # cleaned_tokens = [lemmatizer.stem(word) for word in tokens if word not in stop_words and len(word) > 2]\n",
    "\n",
    "    return \" \".join(cleaned_tokens)"
   ],
   "id": "4f158d8d99f2da1e",
   "outputs": [],
   "execution_count": 3
  },
  {
   "metadata": {},
   "cell_type": "markdown",
   "source": "## 3. Illustration du Pipeline sur un Exemple",
   "id": "8381f4b173066c2c"
  },
  {
   "metadata": {
    "ExecuteTime": {
     "end_time": "2025-09-02T12:59:13.820631Z",
     "start_time": "2025-09-02T12:59:13.803596Z"
    }
   },
   "cell_type": "code",
   "source": [
    "exemple_texte = df['description'].iloc[0]\n",
    "print(\"--- EXEMPLE DE TRANSFORMATION ---\")\n",
    "print(f\"Texte original :\\n{exemple_texte}\\n\")\n",
    "print(f\"Texte nettoyé :\\n{clean_text_pipeline(exemple_texte)}\")"
   ],
   "id": "f6dc25524f24ba22",
   "outputs": [
    {
     "name": "stdout",
     "output_type": "stream",
     "text": [
      "--- EXEMPLE DE TRANSFORMATION ---\n",
      "Texte original :\n",
      "Key Features of Elegance Polyester Multicolor Abstract Eyelet Door Curtain Floral Curtain,Elegance Polyester Multicolor Abstract Eyelet Door Curtain (213 cm in Height, Pack of 2) Price: Rs. 899 This curtain enhances the look of the interiors.This curtain is made from 100% high quality polyester fabric.It features an eyelet style stitch with Metal Ring.It makes the room environment romantic and loving.This curtain is ant- wrinkle and anti shrinkage and have elegant apparance.Give your home a bright and modernistic appeal with these designs. The surreal attention is sure to steal hearts. These contemporary eyelet and valance curtains slide smoothly so when you draw them apart first thing in the morning to welcome the bright sun rays you want to wish good morning to the whole world and when you draw them close in the evening, you create the most special moments of joyous beauty given by the soothing prints. Bring home the elegant curtain that softly filters light in your room so that you get the right amount of sunlight.,Specifications of Elegance Polyester Multicolor Abstract Eyelet Door Curtain (213 cm in Height, Pack of 2) General Brand Elegance Designed For Door Type Eyelet Model Name Abstract Polyester Door Curtain Set Of 2 Model ID Duster25 Color Multicolor Dimensions Length 213 cm In the Box Number of Contents in Sales Package Pack of 2 Sales Package 2 Curtains Body & Design Material Polyester\n",
      "\n",
      "Texte nettoyé :\n",
      "key featur eleg polyest multicolor abstract eyelet door curtain floral curtaineleg polyest multicolor abstract eyelet door curtain height pack price curtain enhanc look interiorsthi curtain made high qualiti polyest fabricit featur eyelet style stitch metal ringit make room environ romant lovingthi curtain ant wrinkl anti shrinkag eleg apparanceg home bright modernist appeal design surreal attent sure steal heart contemporari eyelet valanc curtain slide smoothli draw apart first thing morn welcom bright sun ray want wish good morn whole world draw close even creat special moment joyou beauti given sooth print bring home eleg curtain softli filter light room get right amount sunlightspecif eleg polyest multicolor abstract eyelet door curtain height pack gener brand eleg design door type eyelet model name abstract polyest door curtain set model duster color multicolor dimens length box number content sale packag pack sale packag curtain bodi design materi polyest\n"
     ]
    }
   ],
   "execution_count": 4
  },
  {
   "metadata": {},
   "cell_type": "markdown",
   "source": "## 4. Application du Pipeline à l'Ensemble des Données",
   "id": "40b806aa37692da1"
  },
  {
   "metadata": {
    "ExecuteTime": {
     "end_time": "2025-09-02T12:59:14.488304Z",
     "start_time": "2025-09-02T12:59:13.825150Z"
    }
   },
   "cell_type": "code",
   "source": [
    "print(\"\\n\\nApplication du nettoyage à l'ensemble du dataset...\")\n",
    "df['cleaned_description'] = df['description'].apply(clean_text_pipeline)\n",
    "print(\"Nettoyage terminé.\")"
   ],
   "id": "71b854d2cfb36f3b",
   "outputs": [
    {
     "name": "stdout",
     "output_type": "stream",
     "text": [
      "\n",
      "\n",
      "Application du nettoyage à l'ensemble du dataset...\n",
      "Nettoyage terminé.\n"
     ]
    }
   ],
   "execution_count": 5
  },
  {
   "metadata": {},
   "cell_type": "markdown",
   "source": "## 5. Sauvegarde du DataFrame Prétraité",
   "id": "136ea7db36eda863"
  },
  {
   "metadata": {
    "ExecuteTime": {
     "end_time": "2025-09-02T12:59:14.504302Z",
     "start_time": "2025-09-02T12:59:14.492311Z"
    }
   },
   "cell_type": "code",
   "source": [
    "# On garde uniquement les colonnes nécessaires pour la suite\n",
    "df_nlp_final = df[['main_category', 'cleaned_description']]\n",
    "\n",
    "print(\"\\nExtrait du DataFrame final :\")\n",
    "print(df_nlp_final.head())\n",
    "\n",
    "# Sauvegarde pour le notebook d'algorithmes textuels\n",
    "df_nlp_final.to_csv('Data/df_desc_cleaned.csv', index=False)\n",
    "print(\"\\n\\nDataFrame avec texte nettoyé sauvegardé dans 'Data/df_desc_cleaned.csv'\")"
   ],
   "id": "9867bd24c4be48e9",
   "outputs": [
    {
     "name": "stdout",
     "output_type": "stream",
     "text": [
      "\n",
      "Extrait du DataFrame final :\n",
      "     main_category                                cleaned_description\n",
      "0  Home Furnishing  key featur eleg polyest multicolor abstract ey...\n",
      "1        Baby Care  specif sathiya cotton bath towel bath towel re...\n",
      "2        Baby Care  key featur eurospa cotton terri face towel set...\n",
      "3  Home Furnishing  key featur santosh royal fashion cotton print ...\n",
      "4  Home Furnishing  key featur jaipur print cotton floral king siz...\n",
      "\n",
      "\n",
      "DataFrame avec texte nettoyé sauvegardé dans 'Data/df_desc_cleaned.csv'\n"
     ]
    }
   ],
   "execution_count": 6
  }
 ],
 "metadata": {
  "kernelspec": {
   "display_name": "Python 3",
   "language": "python",
   "name": "python3"
  },
  "language_info": {
   "codemirror_mode": {
    "name": "ipython",
    "version": 2
   },
   "file_extension": ".py",
   "mimetype": "text/x-python",
   "name": "python",
   "nbconvert_exporter": "python",
   "pygments_lexer": "ipython2",
   "version": "2.7.6"
  }
 },
 "nbformat": 4,
 "nbformat_minor": 5
}
