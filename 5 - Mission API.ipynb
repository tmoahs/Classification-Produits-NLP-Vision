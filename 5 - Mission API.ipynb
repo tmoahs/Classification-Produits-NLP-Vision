{
 "cells": [
  {
   "metadata": {},
   "cell_type": "markdown",
   "source": "# P6 - Notebook 5 : Collecte de Données via une API",
   "id": "d2c03199bef322e9"
  },
  {
   "metadata": {},
   "cell_type": "markdown",
   "source": "## 1. Conformité RGPD et Imports",
   "id": "356be8b560fdc7cd"
  },
  {
   "metadata": {},
   "cell_type": "markdown",
   "source": "### Conformité avec le Règlement Général sur la Protection des Données (RGPD)",
   "id": "c4139eb2601ae1ab"
  },
  {
   "metadata": {},
   "cell_type": "markdown",
   "source": [
    "Dans le cadre de la collecte de données via l'API OpenFoodFacts, une attention particulière a été portée au respect des principes du RGPD.\n",
    "\n",
    "1.  **Licéité, loyauté et transparence** : Les données sont issues d'une API publique et collaborative (OpenFoodFacts), dont les conditions d'utilisation sont transparentes.\n",
    "2.  **Limitation des finalités** : Les données collectées sont utilisées exclusivement pour la finalité de ce projet pédagogique.\n",
    "3.  **Minimisation des données** : Seuls les champs strictement nécessaires (`foodId`, `label`, `category`, `foodContentsLabel`, `image`) ont été collectés, conformément au cahier des charges.\n",
    "4.  **Exactitude** : Les données sont utilisées telles que fournies par l'API.\n",
    "5.  **Limitation de la conservation** : Les données seront conservées uniquement le temps de la réalisation de ce projet.\n"
   ],
   "id": "c5d2dd0b9d550685"
  },
  {
   "metadata": {
    "ExecuteTime": {
     "end_time": "2025-09-16T14:17:17.513748Z",
     "start_time": "2025-09-16T14:17:17.469407Z"
    }
   },
   "cell_type": "code",
   "source": [
    "import requests\n",
    "import pandas as pd"
   ],
   "id": "22ca28b8f06f4a55",
   "outputs": [],
   "execution_count": 1
  },
  {
   "metadata": {},
   "cell_type": "markdown",
   "source": "## 2. Construction et Exécution de la Requête API",
   "id": "88ed1e125e397003"
  },
  {
   "metadata": {
    "ExecuteTime": {
     "end_time": "2025-09-16T14:17:18.776860Z",
     "start_time": "2025-09-16T14:17:17.518213Z"
    }
   },
   "cell_type": "code",
   "source": [
    "# Objectif : Collecter des données sur des produits contenant du \"champagne\".\n",
    "\n",
    "# Définition des paramètres de la requête\n",
    "url = \"https://world.openfoodfacts.org/cgi/search.pl\"\n",
    "\n",
    "# Définition des paramètres de la requête\n",
    "params = {\n",
    "    \"action\": \"process\",\n",
    "    \"search_terms\": \"champagne\",\n",
    "    \"sort_by\": \"unique_scans_n\",\n",
    "    \"page_size\": 20,\n",
    "    \"json\": 1,\n",
    "    \"fields\": \"code,product_name,categories,ingredients_text,image_url\" # Noms de champs actuels\n",
    "}\n",
    "\n",
    "# Exécution de la requête\n",
    "print(\"Envoi de la requête à l'API OpenFoodFacts...\")\n",
    "response = requests.get(url, params=params)\n",
    "\n",
    "# Vérification du succès de la requête\n",
    "if response.status_code == 200:\n",
    "    print(\"Réponse reçue avec succès !\")\n",
    "    data = response.json()\n",
    "    products = data.get('products', [])\n",
    "    print(f\"{len(products)} produits ont été trouvés.\")\n",
    "else:\n",
    "    print(f\"Erreur lors de la requête API. Statut : {response.status_code}\")\n",
    "    products = []"
   ],
   "id": "7973395a7ab8d1b5",
   "outputs": [
    {
     "name": "stdout",
     "output_type": "stream",
     "text": [
      "Envoi de la requête à l'API OpenFoodFacts...\n",
      "Réponse reçue avec succès !\n",
      "20 produits ont été trouvés.\n"
     ]
    }
   ],
   "execution_count": 2
  },
  {
   "metadata": {},
   "cell_type": "markdown",
   "source": "## 3. Traitement des Données et Sauvegarde",
   "id": "ed70ea813091aa16"
  },
  {
   "metadata": {
    "ExecuteTime": {
     "end_time": "2025-09-16T14:17:18.848208Z",
     "start_time": "2025-09-16T14:17:18.831918Z"
    }
   },
   "cell_type": "code",
   "source": [
    "if products:\n",
    "    # Conversion en DataFrame\n",
    "    df_api = pd.DataFrame(products)\n",
    "\n",
    "    # Affichage d'un aperçu\n",
    "    print(\"\\n\\nAperçu des données brutes collectées :\")\n",
    "    print(df_api.head())\n",
    "    print(\"\\nInformations sur le DataFrame :\")\n",
    "    df_api.info()\n",
    "\n",
    "    # Dictionnaire pour renommer les colonnes\n",
    "    rename_dict = {\n",
    "        'code': 'foodId',\n",
    "        'product_name': 'label',\n",
    "        'categories': 'category',\n",
    "        'ingredients_text': 'foodContentsLabel',\n",
    "        'image_url': 'image'\n",
    "    }\n",
    "\n",
    "    df_api.rename(columns=rename_dict, inplace=True)\n",
    "    df_api = df_api[['foodId', 'label', 'category', 'foodContentsLabel', 'image']]\n",
    "\n",
    "    # Sauvegarde\n",
    "    output_path = 'Data/api_products_champagne.csv'\n",
    "    df_api.to_csv(output_path, index=False)\n",
    "    print(f\"\\n\\nDonnées collectées et sauvegardées avec succès dans '{output_path}'\")\n",
    "else:\n",
    "    print(\"\\nAucun produit n'a été collecté. Cela peut être dû à un changement dans l'API ou à l'absence de résultats.\")"
   ],
   "id": "4013abb2e50e8281",
   "outputs": [
    {
     "name": "stdout",
     "output_type": "stream",
     "text": [
      "\n",
      "\n",
      "Aperçu des données brutes collectées :\n",
      "                                          categories           code  \\\n",
      "0                                Produits,Champagnes  8001841769189   \n",
      "1  Aliments et boissons à base de végétaux, Alime...  3039820510250   \n",
      "2                                     Salted spreads  3292070010264   \n",
      "3  Boissons, Boissons alcoolisées, Vins, Vins eff...  3113934004147   \n",
      "4                                                NaN  4820097815556   \n",
      "\n",
      "                                           image_url  \\\n",
      "0  https://images.openfoodfacts.org/images/produc...   \n",
      "1  https://images.openfoodfacts.org/images/produc...   \n",
      "2  https://images.openfoodfacts.org/images/produc...   \n",
      "3  https://images.openfoodfacts.org/images/produc...   \n",
      "4  https://images.openfoodfacts.org/images/produc...   \n",
      "\n",
      "                                    ingredients_text  \\\n",
      "0                                                NaN   \n",
      "1                                  Lentilles vertes.   \n",
      "2  Pois chiches 44% - purée de betterave rouge 37...   \n",
      "3                            Pinots et de Chardonnay   \n",
      "4                                                NaN   \n",
      "\n",
      "                                        product_name  \n",
      "0                                                NaN  \n",
      "1  Vivien Paille Lentilles vertes le paquet de 500 g  \n",
      "2  Betteraves de Champagne & chèvre crémeux, poin...  \n",
      "3                                     Canard Duchêne  \n",
      "4                              Splashes of champagne  \n",
      "\n",
      "Informations sur le DataFrame :\n",
      "<class 'pandas.core.frame.DataFrame'>\n",
      "RangeIndex: 20 entries, 0 to 19\n",
      "Data columns (total 5 columns):\n",
      " #   Column            Non-Null Count  Dtype \n",
      "---  ------            --------------  ----- \n",
      " 0   categories        19 non-null     object\n",
      " 1   code              20 non-null     object\n",
      " 2   image_url         20 non-null     object\n",
      " 3   ingredients_text  17 non-null     object\n",
      " 4   product_name      19 non-null     object\n",
      "dtypes: object(5)\n",
      "memory usage: 932.0+ bytes\n",
      "\n",
      "\n",
      "Données collectées et sauvegardées avec succès dans 'Data/api_products_champagne.csv'\n"
     ]
    }
   ],
   "execution_count": 3
  }
 ],
 "metadata": {
  "kernelspec": {
   "display_name": "Python 3",
   "language": "python",
   "name": "python3"
  },
  "language_info": {
   "codemirror_mode": {
    "name": "ipython",
    "version": 2
   },
   "file_extension": ".py",
   "mimetype": "text/x-python",
   "name": "python",
   "nbconvert_exporter": "python",
   "pygments_lexer": "ipython2",
   "version": "2.7.6"
  }
 },
 "nbformat": 4,
 "nbformat_minor": 5
}
